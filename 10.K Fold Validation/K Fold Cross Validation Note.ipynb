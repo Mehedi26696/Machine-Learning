{
 "cells": [
  {
   "attachments": {},
   "cell_type": "markdown",
   "id": "c8a0a962-3eef-4810-80df-99e9bd0096b1",
   "metadata": {},
   "source": [
    "<center><h1 style=\"color:blue\">K Fold Cross Validation</h1></center>"
   ]
  },
  {
   "cell_type": "markdown",
   "id": "a011cf8b-a688-40b4-98e5-8689fb87019b",
   "metadata": {},
   "source": [
    "# What is k-Fold Cross-Validation?\n",
    "- A resampling procedure used to evaluate machine learning models.\n",
    "- Splits the dataset into k groups or \"folds.\"\n",
    "- Ensures each data point is used for both training and testing exactly once.\n",
    "\n",
    "# Why Use k-Fold Cross-Validation?\n",
    "- Reduces the risk of overfitting by evaluating the model multiple times.\n",
    "- Provides a more reliable estimate of model performance compared to a single train/test split.\n",
    "\n",
    "# General Procedure\n",
    "1. Shuffle the dataset randomly.\n",
    "2. Split the dataset into k folds.\n",
    "3. For each fold:\n",
    "   - Use the fold as the test set.\n",
    "   - Use the remaining folds as the training set.\n",
    "   - Train the model and evaluate it.\n",
    "   - Retain the evaluation score and discard the model.\n",
    "4. Summarize the results using the mean and standard deviation of the scores.\n",
    "\n",
    "# Important Considerations\n",
    "- Data preparation (e.g., scaling, feature engineering) must be done within each fold to prevent data leakage.\n",
    "- Hyperparameter tuning should also occur within the cross-validation loop.\n",
    "\n",
    "# Common Configurations for k\n",
    "1. **k = 10**: Default choice for balancing bias and variance.\n",
    "2. **k = n (Leave-One-Out CV)**: Each sample is used once as a test set; computationally expensive.\n",
    "3. **Representative k**: Chosen based on ensuring the folds are large enough to be statistically representative."
   ]
  },
  {
   "attachments": {},
   "cell_type": "markdown",
   "id": "df4a2c3c-dc02-4d56-8ac6-96cfb1b61ac5",
   "metadata": {},
   "source": [
    "<img src=\"1.png\">"
   ]
  }
 ],
 "metadata": {
  "kernelspec": {
   "display_name": "Python 3 (ipykernel)",
   "language": "python",
   "name": "python3"
  },
  "language_info": {
   "codemirror_mode": {
    "name": "ipython",
    "version": 3
   },
   "file_extension": ".py",
   "mimetype": "text/x-python",
   "name": "python",
   "nbconvert_exporter": "python",
   "pygments_lexer": "ipython3",
   "version": "3.12.2"
  }
 },
 "nbformat": 4,
 "nbformat_minor": 5
}
