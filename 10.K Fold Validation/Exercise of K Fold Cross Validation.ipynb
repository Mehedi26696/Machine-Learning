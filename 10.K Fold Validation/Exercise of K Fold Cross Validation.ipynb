{
 "cells": [
  {
   "cell_type": "markdown",
   "id": "8d7903bb-e7b6-4a4f-af85-bf3ad4f152ba",
   "metadata": {},
   "source": [
    "<center><h1 style=\"color:green\">Exercise</h1></center>\n",
    "Use iris flower dataset from sklearn library and use cross_val_score against following models to measure the performance of each. In the end figure out the model with best performance,\n",
    "\n",
    "1. Logistic Regression\n",
    "2. SVM\n",
    "3. Decision Tree\n",
    "4. Random Forest"
   ]
  },
  {
   "cell_type": "code",
   "execution_count": 1,
   "id": "e05dfcc9-adc0-43d2-b563-09b5b5d1f953",
   "metadata": {},
   "outputs": [],
   "source": [
    "from sklearn.datasets import load_iris\n",
    "from sklearn.model_selection import cross_val_score\n",
    "from sklearn.linear_model import LogisticRegression\n",
    "from sklearn.tree import DecisionTreeClassifier\n",
    "from sklearn.svm import SVC\n",
    "from sklearn.ensemble import RandomForestClassifier\n",
    "import numpy as np"
   ]
  },
  {
   "cell_type": "code",
   "execution_count": 2,
   "id": "ef498910-3d97-4b9a-92af-19ef3c515dc2",
   "metadata": {},
   "outputs": [],
   "source": [
    "iris = load_iris()"
   ]
  },
  {
   "cell_type": "markdown",
   "id": "ab8daceb-63c2-4247-8e2c-d722e5f611f9",
   "metadata": {},
   "source": [
    "<b>Logistic Regression"
   ]
  },
  {
   "cell_type": "code",
   "execution_count": 3,
   "id": "806ac64c-f7de-47a5-909c-38ef7f5920ec",
   "metadata": {},
   "outputs": [
    {
     "data": {
      "text/plain": [
       "array([0.98, 0.96, 0.98])"
      ]
     },
     "execution_count": 3,
     "metadata": {},
     "output_type": "execute_result"
    }
   ],
   "source": [
    "l_scores = cross_val_score(LogisticRegression(max_iter=500), iris.data, iris.target,cv=3)\n",
    "l_scores"
   ]
  },
  {
   "cell_type": "code",
   "execution_count": 4,
   "id": "5f2f6e79-80b0-4e81-82d2-3cff5f870ada",
   "metadata": {},
   "outputs": [
    {
     "data": {
      "text/plain": [
       "0.9733333333333333"
      ]
     },
     "execution_count": 4,
     "metadata": {},
     "output_type": "execute_result"
    }
   ],
   "source": [
    "np.average(l_scores)"
   ]
  },
  {
   "cell_type": "markdown",
   "id": "f47921c3-e6a3-436e-a1f7-5b21436539a6",
   "metadata": {},
   "source": [
    "<b>Decision Tree"
   ]
  },
  {
   "cell_type": "code",
   "execution_count": 5,
   "id": "5458fe5b-efe2-47f8-80e0-8722da132a32",
   "metadata": {},
   "outputs": [
    {
     "data": {
      "text/plain": [
       "array([0.98, 0.92, 0.98])"
      ]
     },
     "execution_count": 5,
     "metadata": {},
     "output_type": "execute_result"
    }
   ],
   "source": [
    "d_scores = cross_val_score(DecisionTreeClassifier(), iris.data, iris.target,cv=3)\n",
    "d_scores"
   ]
  },
  {
   "cell_type": "code",
   "execution_count": 6,
   "id": "8df282fa-eac6-48e4-8bdf-b83b7cd610d4",
   "metadata": {},
   "outputs": [
    {
     "data": {
      "text/plain": [
       "0.96"
      ]
     },
     "execution_count": 6,
     "metadata": {},
     "output_type": "execute_result"
    }
   ],
   "source": [
    "np.average(d_scores)"
   ]
  },
  {
   "cell_type": "markdown",
   "id": "7f2fbee6-36c9-4265-8ffa-643fe49c3f60",
   "metadata": {},
   "source": [
    "<b>Support Vector Machine (SVM)"
   ]
  },
  {
   "cell_type": "code",
   "execution_count": 7,
   "id": "abd55d0c-d5dd-43fd-8a74-ebcd6f979808",
   "metadata": {},
   "outputs": [
    {
     "data": {
      "text/plain": [
       "array([0.96, 0.98, 0.94])"
      ]
     },
     "execution_count": 7,
     "metadata": {},
     "output_type": "execute_result"
    }
   ],
   "source": [
    "s_scores = cross_val_score(SVC(), iris.data, iris.target,cv=3)\n",
    "s_scores"
   ]
  },
  {
   "cell_type": "code",
   "execution_count": 8,
   "id": "49d2f195-502a-4212-818d-10ea6a0a51fe",
   "metadata": {},
   "outputs": [
    {
     "data": {
      "text/plain": [
       "0.96"
      ]
     },
     "execution_count": 8,
     "metadata": {},
     "output_type": "execute_result"
    }
   ],
   "source": [
    "np.average(s_scores)"
   ]
  },
  {
   "cell_type": "markdown",
   "id": "35cb0e7b-f135-4994-bb13-15bb3e38378b",
   "metadata": {},
   "source": [
    "<b>Random Forest"
   ]
  },
  {
   "cell_type": "code",
   "execution_count": 9,
   "id": "20755755-1dc5-4ae3-a40a-cd2c939f162f",
   "metadata": {},
   "outputs": [
    {
     "data": {
      "text/plain": [
       "array([0.98, 0.94, 0.96])"
      ]
     },
     "execution_count": 9,
     "metadata": {},
     "output_type": "execute_result"
    }
   ],
   "source": [
    "r_scores = cross_val_score(RandomForestClassifier(n_estimators=40), iris.data, iris.target,cv=3)\n",
    "r_scores"
   ]
  },
  {
   "cell_type": "code",
   "execution_count": 10,
   "id": "3491a314-c58d-4aba-aeea-e7523de3e0ae",
   "metadata": {},
   "outputs": [
    {
     "data": {
      "text/plain": [
       "0.96"
      ]
     },
     "execution_count": 10,
     "metadata": {},
     "output_type": "execute_result"
    }
   ],
   "source": [
    "np.average(r_scores)"
   ]
  },
  {
   "cell_type": "markdown",
   "id": "bccec4bb-bbf0-4efd-9120-43dbd73722da",
   "metadata": {},
   "source": [
    "<b>Best score so far is from Logistic Regression: 0.9733333333333333"
   ]
  }
 ],
 "metadata": {
  "kernelspec": {
   "display_name": "Python 3 (ipykernel)",
   "language": "python",
   "name": "python3"
  },
  "language_info": {
   "codemirror_mode": {
    "name": "ipython",
    "version": 3
   },
   "file_extension": ".py",
   "mimetype": "text/x-python",
   "name": "python",
   "nbconvert_exporter": "python",
   "pygments_lexer": "ipython3",
   "version": "3.12.2"
  }
 },
 "nbformat": 4,
 "nbformat_minor": 5
}
