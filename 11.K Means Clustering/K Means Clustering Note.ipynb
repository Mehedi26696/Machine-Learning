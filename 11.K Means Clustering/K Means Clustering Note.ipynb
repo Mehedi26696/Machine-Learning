{
 "cells": [
  {
   "cell_type": "markdown",
   "id": "9a489d4f-8dc7-4095-b4f8-32420e48175d",
   "metadata": {},
   "source": [
    "<center><h1 style=\"color:purple\">Clustering With K Means</h1></center>"
   ]
  },
  {
   "cell_type": "markdown",
   "id": "5c865b18-ffb7-4c3d-b8e1-43c2b63c040b",
   "metadata": {},
   "source": [
    "# K-Means Clustering\n",
    "\n",
    "K-Means Clustering is an **unsupervised machine learning algorithm** used to group unlabeled data into clusters based on similarities.\n",
    "\n",
    "---\n",
    "\n",
    "### What is K-Means Clustering?\n",
    "\n",
    "Unsupervised learning organizes data without prior labels by identifying patterns and similarities.  \n",
    "- K-Means assigns data points to **K clusters** based on their distance to cluster centroids.  \n",
    "- Steps:\n",
    "  1. Randomly initialize cluster centroids.\n",
    "  2. Assign points to the nearest centroid.\n",
    "  3. Recalculate centroids based on assignments.\n",
    "  4. Repeat until clusters stabilize.\n",
    "\n",
    "**Key Notes**:  \n",
    "- Requires **K (number of clusters)** to be predefined.  \n",
    "- Works well with well-separated data; sensitive to noise and initialization.  \n",
    "- May get stuck in local minima and lacks robust cluster quality metrics.\n",
    "\n",
    "---\n",
    "\n",
    "### Objective of K-Means Clustering\n",
    "\n",
    "To group data into clusters such that points in the same cluster are more similar to each other than to points in other clusters.\n",
    "\n",
    "---\n",
    "\n",
    "### How K-Means Clustering Works\n",
    "\n",
    "1. Represent items as points in **n-dimensional space**.  \n",
    "2. Use **Euclidean distance** to measure similarity.  \n",
    "3. Algorithm steps:  \n",
    "   - Initialize **K centroids** randomly.  \n",
    "   - For each point:  \n",
    "     - Assign it to the nearest centroid.  \n",
    "     - Recalculate centroid as the mean of its assigned points.  \n",
    "   - Repeat for a set number of iterations or until convergence.\n",
    "\n",
    "**Pseudocode**:  \n",
    "```plaintext\n",
    "Initialize K means with random values\n",
    "For a given number of iterations:\n",
    "    For each item:\n",
    "        Calculate its Euclidean distance to all means.\n",
    "        Assign it to the nearest mean.\n",
    "        Update mean to the average of its assigned items.\n"
   ]
  },
  {
   "cell_type": "markdown",
   "id": "3ad06b6e-7b8a-4e44-b556-c7983a21bead",
   "metadata": {},
   "source": [
    "### Elbow Method\n",
    "\n",
    "The **Elbow Method** is used to determine the optimal number of clusters (K):\n",
    "\n",
    "1. **WCSS (Within-Cluster Sum of Squares)**: Measures variance within clusters. Lower WCSS indicates tighter clusters.  \n",
    "2. **Steps**:  \n",
    "   - Run K-Means for different values of K (e.g., 1 to 10).  \n",
    "   - Calculate the WCSS for each K.  \n",
    "   - Plot K (x-axis) vs. WCSS (y-axis).  \n",
    "3. **Elbow Point**: Identify the point where the WCSS reduction slows significantly. This \"elbow\" indicates the optimal K.\n"
   ]
  },
  {
   "attachments": {},
   "cell_type": "markdown",
   "id": "c628c5ec-dd9f-44d2-a550-cbfd0a5a6f38",
   "metadata": {},
   "source": [
    "<center><img src=\"1.png\">"
   ]
  },
  {
   "attachments": {},
   "cell_type": "markdown",
   "id": "193979d6-6392-4cd9-9d42-5b932416cb3d",
   "metadata": {},
   "source": [
    "<center><img src=\"2.png\">"
   ]
  },
  {
   "attachments": {},
   "cell_type": "markdown",
   "id": "2cd40205-2cf1-41cc-9b0d-8bae687395ec",
   "metadata": {},
   "source": [
    "<center><img src=\"3.png\">"
   ]
  }
 ],
 "metadata": {
  "kernelspec": {
   "display_name": "Python 3 (ipykernel)",
   "language": "python",
   "name": "python3"
  },
  "language_info": {
   "codemirror_mode": {
    "name": "ipython",
    "version": 3
   },
   "file_extension": ".py",
   "mimetype": "text/x-python",
   "name": "python",
   "nbconvert_exporter": "python",
   "pygments_lexer": "ipython3",
   "version": "3.12.2"
  }
 },
 "nbformat": 4,
 "nbformat_minor": 5
}
