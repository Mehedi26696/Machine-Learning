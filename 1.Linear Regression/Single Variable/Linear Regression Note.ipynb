{
 "cells": [
  {
   "cell_type": "markdown",
   "id": "d571c8bd-8ff1-4513-93c0-acc54a77eea6",
   "metadata": {},
   "source": [
    "<center><h1 style=\"color:green\">Linear Regression</h1>"
   ]
  },
  {
   "cell_type": "markdown",
   "id": "d821754b-98de-4777-a663-eb20b7e51066",
   "metadata": {},
   "source": [
    "<h1><b>What is Linear Regression?</b></h1>\n",
    "\n",
    "Linear regression is a type of supervised machine learning algorithm that computes the linear relationship between the dependent variable and one or more independent features by fitting a linear equation to observed data.\n",
    "\n",
    "When there is only one independent feature, it is known as Simple Linear Regression, and when there are more than one feature, it is known as Multiple Linear Regression.\n",
    "\n",
    "Similarly, when there is only one dependent variable, it is considered Univariate Linear Regression, while when there are more than one dependent variables, it is known as Multivariate Regression."
   ]
  },
  {
   "cell_type": "markdown",
   "id": "d1c69da0-bafd-4236-ab43-cf9c21a93b54",
   "metadata": {},
   "source": [
    "\n",
    "# Types of Linear Regression\n",
    "Linear regression is a fundamental statistical method for modeling the relationship between one or more independent variables and a dependent variable. The two main types of linear regression are as follows:\n",
    "\n",
    "### 1. Simple Linear Regression\n",
    "This is the simplest form of linear regression, and it involves only one independent variable and one dependent variable.\n",
    "- **Equation**: y = β0 + β1X\n",
    "  - y: Dependent variable (response)\n",
    "  - X: Independent variable (predictor)\n",
    "  - β0: Intercept (value of y when X = 0)\n",
    "  - β1: Slope (rate of change of y with respect to X)\n",
    "\n",
    "#### Equation for Simple Linear Regression\n",
    "Equation: y = β0 + β1X\n",
    "\n",
    "Where:\n",
    "- Y is the dependent variable\n",
    "- X is the independent variable\n",
    "- β0 is the intercept\n",
    "- β1 is the slope\n",
    "\n",
    "### 2. Multiple Linear Regression\n",
    "This involves more than one independent variable and one dependent variable.\n",
    "- **Equation**: y = β0 + β1X1 + β2X2 + ... + βnXn\n",
    "  - y: Dependent variable\n",
    "  - X1, X2, ..., Xn: Independent variables\n",
    "  - β0: Intercept\n",
    "  - β1, β2, ..., βn: Coefficients (slopes for respective independent variables)\n",
    "\n",
    "#### Equation for Multiple Linear Regression\n",
    "Equation: y = β0 + β1X1 + β2X2 + ... + βnXn\n",
    "\n",
    "Where:\n",
    "- Y is the dependent variable\n",
    "- X1, X2, ..., Xn are the independent variables\n",
    "- β0 is the intercept\n",
    "- β1, β2, ..., βn are the slopes\n",
    "\n",
    "\n",
    "### Purpose\n",
    "The goal of the algorithm is to find the best-fit line equation that can predict the values based on the independent variables.\n",
    "In regression, a set of records is present with X and Y values, and these values are used to learn a function so if you want to predict Y from an unknown X, this learned function can be used.\n",
    "In regression, we have to find the value of Y, so a function is required that predicts continuous Y in the case of regression given X as independent features.\n"
   ]
  },
  {
   "attachments": {
    "5990e3a9-4b00-44da-82fd-edb9110669a8.png": {
     "image/png": "[encoded data removed]"
    }
   },
   "cell_type": "markdown",
   "id": "f1f704ce-dff5-4849-9b19-a0152ed3b077",
   "metadata": {},
   "source": [
    "![image.png](attachment:5990e3a9-4b00-44da-82fd-edb9110669a8.png)"
   ]
  },
  {
   "cell_type": "markdown",
   "id": "5d163a31-fdc1-4fbc-a66a-d4e8879a4bc4",
   "metadata": {},
   "source": [
    "### Linear Regression Formula\n",
    "\n",
    "The formulas for the intercept **a** and slope **b** in a linear regression line **$y = a + bx$** are derived based on minimizing the sum of squared residuals. Here's the clean and correctly formatted representation of the formulas:\n",
    "\n",
    "#### Formula for Intercept (a):\n",
    "$$\n",
    "a = \\frac{\\sum y \\cdot \\sum x^2 - \\sum x \\cdot \\sum xy}{n \\cdot \\sum x^2 - (\\sum x)^2}\n",
    "$$\n",
    "\n",
    "#### Formula for Slope (b):\n",
    "$$\n",
    "b = \\frac{n \\cdot \\sum xy - (\\sum x)(\\sum y)}{n \\cdot \\sum x^2 - (\\sum x)^2}\n",
    "$$\n",
    "\n",
    "#### Where:\n",
    "- **$y$**: Dependent variable (response variable) along the Y-axis.\n",
    "- **$x$**: Independent variable (predictor variable) along the X-axis.\n",
    "- **$n$**: Number of data points.\n",
    "- **$\\sum x$**: Sum of all x values.\n",
    "- **$\\sum y$**: Sum of all y values.\n",
    "- **$\\sum x^2$**: Sum of squares of x values.\n",
    "- **$\\sum xy$**: Sum of products of corresponding x and y values.\n",
    "\n",
    "These formulas calculate the best-fit line for the given data by minimizing the error between predicted and observed values.\n"
   ]
  },
  {
   "cell_type": "markdown",
   "id": "bf910ef0-7c25-46cd-bb29-e46ae109af72",
   "metadata": {},
   "source": [
    "# Model Evaluation in Linear Regression\n",
    "\n",
    "When developing a linear regression model, it's crucial to evaluate its performance to ensure that it accurately predicts outcomes based on input features. Two widely used metrics for this purpose are Mean Squared Error (MSE) and R-squared (R²). Below, we will delve into each of these metrics, explaining their significance and how they are calculated.\n",
    "\n",
    "## Mean Squared Error (MSE)\n",
    "\n",
    "**Definition:**\n",
    "Mean Squared Error (MSE) is a measure of the average squared differences between predicted values and actual values. It quantifies how close the predicted values are to the true values, making it a vital metric for assessing the accuracy of regression models.\n",
    "\n",
    "**Formula:**\n",
    "The formula for MSE is given by:\n",
    "\n",
    "$$\n",
    "MSE = \\frac{1}{n} \\sum_{i=1}^{n} (y_i - \\hat{y}_i)^2\n",
    "$$\n",
    "\n",
    "Where:\n",
    "- **n** is the number of data points.\n",
    "- **$y_i$** is the actual value.\n",
    "- **$\\hat{y}_i$** is the predicted value.\n",
    "\n",
    "**Interpretation:**\n",
    "- A lower MSE indicates a better fit of the model to the data, as it signifies that the predicted values are closer to the actual values.\n",
    "- MSE is sensitive to outliers because it squares the errors, which means larger errors have a disproportionately large effect on the MSE.\n",
    "\n",
    "## R-Squared (R²)\n",
    "\n",
    "**Definition:**\n",
    "R-squared, also known as the coefficient of determination, is a statistical measure that represents the proportion of the variance for a dependent variable that's explained by an independent variable or variables in a regression model.\n",
    "\n",
    "**Formula:**\n",
    "The formula for R-squared is:\n",
    "\n",
    "$$\n",
    "R^2 = 1 - \\frac{\\sum_{i=1}^{n} (y_i - \\hat{y}_i)^2}{\\sum_{i=1}^{n} (y_i - \\bar{y})^2}\n",
    "$$\n",
    "\n",
    "Where:\n",
    "- **$y_i$** is the actual value.\n",
    "- **$\\hat{y}_i$** is the predicted value.\n",
    "- **$\\bar{y}$** is the mean of the actual values.\n",
    "\n",
    "\n",
    "### Key Points:\n",
    "- The numerator ($\\sum_{i=1}^n (y_i - \\hat{y}_i)^2$) is the **sum of squared residuals** (model error).\n",
    "- The denominator ($\\sum_{i=1}^n (y_i - \\bar{y})^2$) is the **total sum of squares** (total variance).\n",
    "\n",
    "### Interpretation:\n",
    "- **$R^2 = 1$**: The model captures 100% of the variance (perfect fit).\n",
    "- **$R^2 = 0$**: The model captures none of the variance (as good as the mean).\n",
    "- **$R^2 < 0$**: The model performs worse than a simple horizontal line at the mean."
   ]
  },
  {
   "cell_type": "code",
   "execution_count": null,
   "id": "f13d6ab8-1ffa-4dac-ad47-3270da19271b",
   "metadata": {},
   "outputs": [],
   "source": []
  }
 ],
 "metadata": {
  "kernelspec": {
   "display_name": "Python 3 (ipykernel)",
   "language": "python",
   "name": "python3"
  },
  "language_info": {
   "codemirror_mode": {
    "name": "ipython",
    "version": 3
   },
   "file_extension": ".py",
   "mimetype": "text/x-python",
   "name": "python",
   "nbconvert_exporter": "python",
   "pygments_lexer": "ipython3",
   "version": "3.12.2"
  }
 },
 "nbformat": 4,
 "nbformat_minor": 5
}
