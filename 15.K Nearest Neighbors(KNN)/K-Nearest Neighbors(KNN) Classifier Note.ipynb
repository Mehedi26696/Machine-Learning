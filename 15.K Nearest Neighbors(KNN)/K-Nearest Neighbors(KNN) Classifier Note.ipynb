{
 "cells": [
  {
   "cell_type": "markdown",
   "id": "c95f7e8c-c3c6-4dbb-b77b-5ac43ff59e3a",
   "metadata": {},
   "source": [
    "<center><h1 style=\"color:green\">K-Nearest Neighbors (KNN) Algorithm</center>\n",
    "\n",
    "**Key Characteristics:**\n",
    "- **Non-parametric:** No assumptions about data distribution.\n",
    "- **Flexible:** Handles both numerical and categorical data.\n",
    "- **Simplicity:** Easy to implement with minimal hyperparameters.\n",
    "- **Versatility:** Suitable for both classification (majority vote) and regression (average or weighted average).\n",
    "\n",
    "**Mathematical Basis:**\n",
    "\n",
    "**Distance Metrics:**\n",
    "KNN uses distance metrics to measure the similarity between data points. Common metrics include:\n",
    "\n",
    "**Euclidean Distance:**\n",
    "$$\\small d(x, y) = \\sqrt{\\sum_{i=1}^{n} (x_i - y_i)^2}$$\n",
    "\n",
    "**Manhattan Distance:**\n",
    "$$\\small d(x, y) = \\sum_{i=1}^{n} |x_i - y_i|$$\n",
    "\n",
    "**Minkowski Distance:**\n",
    "$$\\small d(x, y) = \\left( \\sum_{i=1}^{n} |x_i - y_i|^p \\right)^{\\frac{1}{p}}$$\n",
    "\n",
    "**Special cases:**\n",
    "- When $p=2$, it is equivalent to Euclidean distance.\n",
    "- When $p=1$, it is equivalent to Manhattan distance.\n",
    "\n",
    "**Hamming Distance (for categorical data):**\n",
    "$$\\small d(x, y) = \\sum_{i=1}^{n} \\text{1 if } x_i \\neq y_i \\text{ else 0}$$\n",
    "\n",
    "**Majority Voting (Classification):**\n",
    "For classification tasks, the predicted class $\\hat{y}$ for a query point is determined by the majority class among its $k$-nearest neighbors:\n",
    "$$\\small \\hat{y} = \\text{mode}(y_1, y_2, \\dots, y_k)$$\n",
    "\n",
    "**Averaging (Regression):**\n",
    "For regression tasks, the predicted value $\\hat{y}$ for a query point is the average value of its $k$-nearest neighbors:\n",
    "$$\\small \\hat{y} = \\frac{1}{k} \\sum_{i=1}^{k} y_i$$\n",
    "\n",
    "**Weighted KNN:**\n",
    "Neighbors closer to the query point can be given more weight to reduce the effect of outliers:\n",
    "$$\\small \\hat{y} = \\frac{\\sum_{i=1}^{k} w_i y_i}{\\sum_{i=1}^{k} w_i}, \\quad \\text{where } w_i = \\frac{1}{d(x, x_i) + \\epsilon}$$\n",
    "Here, $\\epsilon$ is a small value to prevent division by zero.\n",
    "\n",
    "**How KNN Works:**\n",
    "\n",
    "**Choosing the Value of $k$:**\n",
    "- Larger $k$: Reduces noise sensitivity, but loses detail.\n",
    "- Odd $k$: Prevents ties in classification.\n",
    "- Cross-validation can help determine the optimal $k$.\n",
    "\n",
    "**Distance Calculation:**\n",
    "Compute the distance between the test data point and each training data point using one of the above metrics.\n",
    "\n",
    "**Find Nearest Neighbors:**\n",
    "Identify the $k$-closest points based on the smallest distances.\n",
    "\n",
    "**Prediction:**\n",
    "- **Classification:** Perform majority voting to assign a class.\n",
    "- **Regression:** Compute the average (or weighted average) of the $k$-nearest neighbors’ values.\n",
    "\n",
    "**Advantages:**\n",
    "- Easy to implement with minimal computation during training.\n",
    "- Adaptive to new data, as it considers all training examples for predictions.\n",
    "\n",
    "**Disadvantages:**\n",
    "- Computationally expensive for large datasets, as it requires calculating distances for every prediction.\n",
    "- Suffers from the **curse of dimensionality**, making it less effective in high-dimensional spaces.\n",
    "- Sensitive to noisy and imbalanced data without preprocessing.\n"
   ]
  },
  {
   "cell_type": "markdown",
   "id": "2bb94d07-1db5-492e-94e2-2c1f52a1acac",
   "metadata": {},
   "source": [
    "<img src=\"2.png\">"
   ]
  },
  {
   "cell_type": "markdown",
   "id": "8eb82233-9837-423c-bc55-68d7380ea143",
   "metadata": {},
   "source": [
    "<img src=\"4.jpg\" height=300>"
   ]
  },
  {
   "cell_type": "markdown",
   "id": "4894e850-3d7a-4195-b71d-4099e491daaa",
   "metadata": {},
   "source": [
    "<img src=\"3.png\">  <img src=\"5.png\">"
   ]
  },
  {
   "cell_type": "code",
   "execution_count": null,
   "id": "a9ea2e9b-ea80-4363-988e-b8ccca7fd1a3",
   "metadata": {},
   "outputs": [],
   "source": []
  }
 ],
 "metadata": {
  "kernelspec": {
   "display_name": "Python 3 (ipykernel)",
   "language": "python",
   "name": "python3"
  },
  "language_info": {
   "codemirror_mode": {
    "name": "ipython",
    "version": 3
   },
   "file_extension": ".py",
   "mimetype": "text/x-python",
   "name": "python",
   "nbconvert_exporter": "python",
   "pygments_lexer": "ipython3",
   "version": "3.12.2"
  }
 },
 "nbformat": 4,
 "nbformat_minor": 5
}
