{
 "cells": [
  {
   "cell_type": "markdown",
   "id": "546eddc3-3cae-46d3-a91b-ac16f9e2fe74",
   "metadata": {},
   "source": [
    "<center><h1 style=\"color:purple\">Decision Tree</h1></center>"
   ]
  },
  {
   "cell_type": "markdown",
   "id": "07cbba46-65c3-4dee-95b5-528f76c3fc48",
   "metadata": {},
   "source": [
    "\n",
    "## What is Decision Tree\n",
    "A decision tree is a flowchart-like structure used to make decisions or predictions. It consists of nodes representing decisions or tests on attributes, branches representing the outcome of these decisions, and leaf nodes representing final outcomes or predictions. Each internal node corresponds to a test on an attribute, each branch corresponds to the result of the test, and each leaf node corresponds to a class label or a continuous value.\n",
    "\n",
    "## Structure of a Decision Tree\n",
    "- **Root Node**: Represents the entire dataset and the initial decision to be made.\n",
    "- **Internal Nodes**: Represent decisions or tests on attributes. Each internal node has one or more branches.\n",
    "- **Branches**: Represent the outcome of a decision or test, leading to another node.\n",
    "- **Leaf Nodes**: Represent the final decision or prediction. No further splits occur at these nodes.\n",
    "\n",
    "## How Decision Trees Work\n",
    "The process of creating a decision tree involves:\n",
    "\n",
    "1. **Selecting the Best Attribute**:\n",
    "    - Using a metric like Gini impurity, entropy, or information gain, the best attribute to split the data is selected.\n",
    "2. **Splitting the Dataset**:\n",
    "    - The dataset is split into subsets based on the selected attribute.\n",
    "3. **Repeating the Process**:\n",
    "    - The process is repeated recursively for each subset, creating a new internal node or leaf node until a stopping criterion is met (e.g., all instances in a node belong to the same class or a predefined depth is reached).\n",
    "\n",
    "## Metrics for Splitting\n",
    "\n",
    "### 1. Gini Impurity\n",
    "Measures the likelihood of an incorrect classification of a new instance if it was randomly classified according to the distribution of classes in the dataset.\n",
    "\n",
    "Formula:\n",
    "$$Gini = 1 - \\sum_{i=1}^{n} (p_i)^2$$\n",
    "where $p_i$ is the probability of an instance being classified into a particular class.\n",
    "\n",
    "### 2. Entropy\n",
    "Measures the amount of uncertainty or impurity in the dataset.\n",
    "\n",
    "Formula:\n",
    "$$Entropy = -\\sum_{i=1}^{n} p_i \\log_2(p_i)$$\n",
    "where $p_i$ is the probability of an instance being classified into a particular class.\n",
    "\n",
    "### 3. Information Gain\n",
    "Measures the reduction in entropy or Gini impurity after a dataset is split on an attribute.\n",
    "\n",
    "Formula:\n",
    "$$Information\\ Gain = Entropy_{parent} - \\sum_{i=1}^{n} \\left( \\frac{|D_i|}{|D|} \\cdot Entropy(D_i) \\right)$$\n",
    "where $D_i$ is the subset of $D$ after splitting by an attribute.\n",
    "\n",
    "## Advantages of Decision Trees\n",
    "- **Simplicity and Interpretability**: Decision trees are easy to understand and interpret. The visual representation closely mirrors human decision-making processes.\n",
    "- **Versatility**: Can be used for both classification and regression tasks.\n",
    "- **No Need for Feature Scaling**: Decision trees do not require normalization or scaling of the data.\n",
    "- **Handles Non-linear Relationships**: Capable of capturing non-linear relationships between features and target variables.\n",
    "\n",
    "## Disadvantages of Decision Trees\n",
    "- **Overfitting**: Decision trees can easily overfit the training data, especially if they are deep with many nodes.\n",
    "- **Instability**: Small variations in the data can result in a completely different tree being generated.\n",
    "- **Bias towards Features with More Levels**: Features with more levels can dominate the tree structure.\n",
    "\n",
    "## Pruning\n",
    "To overcome overfitting, pruning techniques are used. Pruning reduces the size of the tree by removing nodes that provide little power in classifying instances. There are two main types of pruning:\n",
    "\n",
    "1. **Pre-pruning (Early Stopping)**:\n",
    "    - Stops the tree from growing once it meets certain criteria (e.g., maximum depth, minimum number of samples per leaf).\n",
    "2. **Post-pruning**:\n",
    "    - Removes branches from a fully grown tree that do not provide significant power.\n"
   ]
  },
  {
   "attachments": {},
   "cell_type": "markdown",
   "id": "00851bb4-88f2-46dc-84f5-d88bb29ac892",
   "metadata": {},
   "source": [
    "<img src=\"1.png\">"
   ]
  },
  {
   "cell_type": "code",
   "execution_count": null,
   "id": "5a340082-c4ad-4551-bf26-17b9e94ad603",
   "metadata": {},
   "outputs": [],
   "source": []
  }
 ],
 "metadata": {
  "kernelspec": {
   "display_name": "Python 3 (ipykernel)",
   "language": "python",
   "name": "python3"
  },
  "language_info": {
   "codemirror_mode": {
    "name": "ipython",
    "version": 3
   },
   "file_extension": ".py",
   "mimetype": "text/x-python",
   "name": "python",
   "nbconvert_exporter": "python",
   "pygments_lexer": "ipython3",
   "version": "3.12.2"
  }
 },
 "nbformat": 4,
 "nbformat_minor": 5
}
